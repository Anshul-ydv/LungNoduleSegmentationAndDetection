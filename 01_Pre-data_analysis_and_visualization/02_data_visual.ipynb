{
 "cells": [
  {
   "cell_type": "code",
   "execution_count": null,
   "metadata": {},
   "outputs": [],
   "source": [
    "import cv2\n",
    "import numpy as np\n",
    "import SimpleITK as stk\n",
    "import matplotlib.pyplot as plt\n",
    "from tqdm import tqdm\n",
    "\n",
    "lungs_file = \"1.3.6.1.4.1.14519.5.2.1.6279.6001.109002525524522225658609808059.mhd\"\n",
    "root = \"/Users/STUFF/lungnode/subset0\"\n",
    "\n",
    "def load_mhd(file):\n",
    "    mhdimage = stk.ReadImage(file)\n",
    "    ct_scan = stk.GetArrayFromImage(mhdimage)\n",
    "    return ct_scan\n",
    "\n",
    "#fourcc = cv2.VideoWriter_fourcc(*'MPEG')\n",
    "fourcc = cv2.VideoWriter_fourcc(*'DIVX')\n",
    "\n",
    "vid = cv2.VideoWriter('lungs.mp4', fourcc, 15.0, (512, 512), False)\n",
    "\n",
    "ct = None\n",
    "\n",
    "# file loading\n",
    "try:\n",
    "    ct = load_mhd(root + \"/\" + lungs_file)  \n",
    "except Exception as e:  \n",
    "    print(f\"CT Scan file not found. Error: {e}\\nExiting...\")\n",
    "    exit(0)\n",
    "\n",
    "\n",
    "if ct is not None:\n",
    "    for i in tqdm(range(ct.shape[0])):\n",
    "        img = ct[i, :, :]\n",
    "        img = cv2.normalize(img, None, 0, 255, cv2.NORM_MINMAX)\n",
    "        img = cv2.resize(img, (512, 512)).astype(np.uint8)\n",
    "        cv2.imshow(\"lungs\", img)\n",
    "        \n",
    "        vid.write(img)\n",
    "\n",
    "vid.release()\n",
    "cv2.destroyAllWindows()\n"
   ]
  },
  {
   "cell_type": "markdown",
   "metadata": {},
   "source": [
    "This script converts a CT scan (`.mhd` file) into a video (`lungs.mp4`), processing each slice by normalizing, resizing, and writing it to the video. It uses `SimpleITK` for loading and `OpenCV` for video creation and visualization."
   ]
  }
 ],
 "metadata": {
  "kernelspec": {
   "display_name": "Python 3",
   "language": "python",
   "name": "python3"
  },
  "language_info": {
   "codemirror_mode": {
    "name": "ipython",
    "version": 3
   },
   "file_extension": ".py",
   "mimetype": "text/x-python",
   "name": "python",
   "nbconvert_exporter": "python",
   "pygments_lexer": "ipython3",
   "version": "3.12.7"
  }
 },
 "nbformat": 4,
 "nbformat_minor": 2
}
