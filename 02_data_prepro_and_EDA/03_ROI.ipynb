{
 "cells": [
  {
   "cell_type": "code",
   "execution_count": 30,
   "metadata": {},
   "outputs": [],
   "source": [
    "import os\n",
    "import cv2\n",
    "import copy\n",
    "import numpy as np\n",
    "import pandas as pd\n",
    "from glob import glob\n",
    "from tqdm import tqdm\n",
    "\n",
    "import SimpleITK as stk\n",
    "import matplotlib.pyplot as plt\n",
    "\n",
    "from sklearn.cluster import KMeans\n",
    "from skimage import measure"
   ]
  },
  {
   "cell_type": "code",
   "execution_count": 31,
   "metadata": {},
   "outputs": [],
   "source": [
    "root = \"/Users/STUFF/lungnode/\"\n",
    "target_root = \"/Users/STUFF/Processedm2/Processed_Data/\""
   ]
  },
  {
   "cell_type": "code",
   "execution_count": 32,
   "metadata": {},
   "outputs": [
    {
     "name": "stdout",
     "output_type": "stream",
     "text": [
      "Files Count: 88\n",
      "DF Count: 1186\n"
     ]
    },
    {
     "data": {
      "text/html": [
       "<div>\n",
       "<style scoped>\n",
       "    .dataframe tbody tr th:only-of-type {\n",
       "        vertical-align: middle;\n",
       "    }\n",
       "\n",
       "    .dataframe tbody tr th {\n",
       "        vertical-align: top;\n",
       "    }\n",
       "\n",
       "    .dataframe thead th {\n",
       "        text-align: right;\n",
       "    }\n",
       "</style>\n",
       "<table border=\"1\" class=\"dataframe\">\n",
       "  <thead>\n",
       "    <tr style=\"text-align: right;\">\n",
       "      <th></th>\n",
       "      <th>seriesuid</th>\n",
       "      <th>coordX</th>\n",
       "      <th>coordY</th>\n",
       "      <th>coordZ</th>\n",
       "      <th>diameter_mm</th>\n",
       "    </tr>\n",
       "  </thead>\n",
       "  <tbody>\n",
       "    <tr>\n",
       "      <th>0</th>\n",
       "      <td>1.3.6.1.4.1.14519.5.2.1.6279.6001.100225287222...</td>\n",
       "      <td>-128.699421</td>\n",
       "      <td>-175.319272</td>\n",
       "      <td>-298.387506</td>\n",
       "      <td>5.651471</td>\n",
       "    </tr>\n",
       "    <tr>\n",
       "      <th>1</th>\n",
       "      <td>1.3.6.1.4.1.14519.5.2.1.6279.6001.100225287222...</td>\n",
       "      <td>103.783651</td>\n",
       "      <td>-211.925149</td>\n",
       "      <td>-227.121250</td>\n",
       "      <td>4.224708</td>\n",
       "    </tr>\n",
       "    <tr>\n",
       "      <th>2</th>\n",
       "      <td>1.3.6.1.4.1.14519.5.2.1.6279.6001.100398138793...</td>\n",
       "      <td>69.639017</td>\n",
       "      <td>-140.944586</td>\n",
       "      <td>876.374496</td>\n",
       "      <td>5.786348</td>\n",
       "    </tr>\n",
       "    <tr>\n",
       "      <th>3</th>\n",
       "      <td>1.3.6.1.4.1.14519.5.2.1.6279.6001.100621383016...</td>\n",
       "      <td>-24.013824</td>\n",
       "      <td>192.102405</td>\n",
       "      <td>-391.081276</td>\n",
       "      <td>8.143262</td>\n",
       "    </tr>\n",
       "    <tr>\n",
       "      <th>4</th>\n",
       "      <td>1.3.6.1.4.1.14519.5.2.1.6279.6001.100621383016...</td>\n",
       "      <td>2.441547</td>\n",
       "      <td>172.464881</td>\n",
       "      <td>-405.493732</td>\n",
       "      <td>18.545150</td>\n",
       "    </tr>\n",
       "  </tbody>\n",
       "</table>\n",
       "</div>"
      ],
      "text/plain": [
       "                                           seriesuid      coordX      coordY  \\\n",
       "0  1.3.6.1.4.1.14519.5.2.1.6279.6001.100225287222... -128.699421 -175.319272   \n",
       "1  1.3.6.1.4.1.14519.5.2.1.6279.6001.100225287222...  103.783651 -211.925149   \n",
       "2  1.3.6.1.4.1.14519.5.2.1.6279.6001.100398138793...   69.639017 -140.944586   \n",
       "3  1.3.6.1.4.1.14519.5.2.1.6279.6001.100621383016...  -24.013824  192.102405   \n",
       "4  1.3.6.1.4.1.14519.5.2.1.6279.6001.100621383016...    2.441547  172.464881   \n",
       "\n",
       "       coordZ  diameter_mm  \n",
       "0 -298.387506     5.651471  \n",
       "1 -227.121250     4.224708  \n",
       "2  876.374496     5.786348  \n",
       "3 -391.081276     8.143262  \n",
       "4 -405.493732    18.545150  "
      ]
     },
     "execution_count": 32,
     "metadata": {},
     "output_type": "execute_result"
    }
   ],
   "source": [
    "subset = 9   #runn: 0..9\n",
    "file_list = glob(root+f\"subset{subset}/*.mhd\")\n",
    "annotations_df = pd.read_csv(root+\"annotations.csv\")\n",
    "print(\"Files Count:\",len(file_list))\n",
    "print(\"DF Count:\",len(annotations_df))\n",
    "annotations_df.head()"
   ]
  },
  {
   "cell_type": "code",
   "execution_count": 33,
   "metadata": {},
   "outputs": [
    {
     "data": {
      "text/plain": [
       "(array([2., 1., 0., ..., 0., 0., 1.]),\n",
       " array([ 3.2534432 ,  3.27792977,  3.30241634, ..., 32.22105711,\n",
       "        32.24554368, 32.27003025]),\n",
       " <BarContainer object of 1185 artists>)"
      ]
     },
     "execution_count": 33,
     "metadata": {},
     "output_type": "execute_result"
    },
    {
     "data": {
      "image/png": "[encoded data removed]",
      "text/plain": [
       "<Figure size 640x480 with 1 Axes>"
      ]
     },
     "metadata": {},
     "output_type": "display_data"
    }
   ],
   "source": [
    "d = annotations_df['diameter_mm'].values\n",
    "plt.hist(d, bins=1185)"
   ]
  },
  {
   "cell_type": "code",
   "execution_count": 34,
   "metadata": {},
   "outputs": [],
   "source": [
    "def get_filename(file_list, file):\n",
    "    for f in file_list:\n",
    "        if file in f:\n",
    "            return f"
   ]
  },
  {
   "cell_type": "code",
   "execution_count": 35,
   "metadata": {},
   "outputs": [
    {
     "name": "stdout",
     "output_type": "stream",
     "text": [
      "99\n"
     ]
    }
   ],
   "source": [
    "annotations_df[\"filename\"] = annotations_df[\"seriesuid\"].map(lambda file: get_filename(file_list, file))\n",
    "annotations_df = annotations_df.dropna()\n",
    "annotations_df = annotations_df[annotations_df['diameter_mm']>=4]  # Excluding nodules with diameter less than 4mm\n",
    "print(len(annotations_df))"
   ]
  },
  {
   "cell_type": "code",
   "execution_count": 36,
   "metadata": {},
   "outputs": [],
   "source": [
    "def load_mhd(file):\n",
    "    mhdimage = stk.ReadImage(file)\n",
    "    ct_scan = stk.GetArrayFromImage(mhdimage)\n",
    "    origin = np.array(list(mhdimage.GetOrigin()))\n",
    "    space = np.array(list(mhdimage.GetSpacing()))\n",
    "    return ct_scan, origin, space"
   ]
  },
  {
   "cell_type": "code",
   "execution_count": 37,
   "metadata": {},
   "outputs": [],
   "source": [
    "def make_mask(img, center, diam):\n",
    "    mask = np.zeros_like(img, dtype=np.uint8)\n",
    "    mask = cv2.circle(mask, (int(center[0]),int(center[1])), diam//2, 255, -1)\n",
    "    return mask"
   ]
  },
  {
   "cell_type": "code",
   "execution_count": null,
   "metadata": {},
   "outputs": [
    {
     "name": "stderr",
     "output_type": "stream",
     "text": [
      "57it [00:14,  4.00it/s]\n"
     ]
    }
   ],
   "source": [
    "clahe = cv2.createCLAHE(clipLimit=2.0, tileGridSize=(8,8))  # CLAHE(Contrast Limited Adaptive Histogram Equalization) filter for enhancing the contrast of an image\n",
    "\n",
    "# Iterating over all the files in the subset\n",
    "for i,file in tqdm(enumerate(np.unique(annotations_df['filename'].values))):\n",
    "    annotations = annotations_df[annotations_df[\"filename\"]==file]\n",
    "    ct, origin, space = load_mhd(file)      # Loading the CT scan\n",
    "    num_z, height, width = ct.shape\n",
    "    ct_norm = cv2.normalize(ct, None, 0, 255, cv2.NORM_MINMAX)   \n",
    "    for idx, row in annotations.iterrows():\n",
    "        node_x = int(row[\"coordX\"])         \n",
    "        node_y = int(row[\"coordY\"])         \n",
    "        node_z = int(row[\"coordZ\"])         \n",
    "        diam = int(row[\"diameter_mm\"])      \n",
    "\n",
    "        center = np.array([node_x, node_y, node_z]) \n",
    "        v_center = np.rint((center-origin)/space)   \n",
    "\n",
    "        img_norm = ct_norm[int(v_center[2]),:,:]       \n",
    "        img_norm = cv2.resize(img_norm, (512,512))     \n",
    "        img_norm_improved = clahe.apply(img_norm.astype(np.uint8))\n",
    "\n",
    "        ################################################################################################\n",
    "        v_diam = int(diam/space[0])+5       \n",
    "        mask = make_mask(img_norm, v_center, v_diam)    \n",
    "        if v_diam>18:          \n",
    "            img_norm2 = ct_norm[(int(v_center[2])-1),:,:]\n",
    "            img_norm2 = cv2.resize(img_norm2, (512,512))\n",
    "            img_norm2_improved = clahe.apply(img_norm2.astype(np.uint8))\n",
    "            mask2 = make_mask(img_norm2, v_center, v_diam-1)\n",
    "            \n",
    "            img_norm3 = ct_norm[(int(v_center[2])+1),:,:]\n",
    "            img_norm3 = cv2.resize(img_norm3, (512,512))\n",
    "            img_norm3_improved = clahe.apply(img_norm3.astype(np.uint8))\n",
    "            mask3 = make_mask(img_norm3, v_center, v_diam-1)\n",
    "\n",
    "        ################################################################################################\n",
    "\n",
    "        # Calculating the threshold \n",
    "        centeral_area = img_norm[100:400, 100:400]\n",
    "        kmeans = KMeans(n_clusters=2).fit(np.reshape(centeral_area, [np.prod(centeral_area.shape), 1]))\n",
    "        centroids = sorted(kmeans.cluster_centers_.flatten())\n",
    "        threshold = np.mean(centroids)\n",
    "        \n",
    "        ################################################################################################\n",
    "        \n",
    "        mask = cv2.bitwise_and(img_norm, img_norm, mask=mask)\n",
    "        _, mask = cv2.threshold(mask, threshold-5, 255, cv2.THRESH_BINARY)\n",
    "        if v_diam>18:\n",
    "            mask2 = cv2.bitwise_and(img_norm2, img_norm2, mask=mask2)\n",
    "            _, mask2 = cv2.threshold(mask2, threshold-5, 255, cv2.THRESH_BINARY)\n",
    "            \n",
    "            mask3 = cv2.bitwise_and(img_norm3, img_norm3, mask=mask3)\n",
    "            _, mask3 = cv2.threshold(mask3, threshold-5, 255, cv2.THRESH_BINARY)\n",
    "\n",
    "        ################################################################################################\n",
    "        \n",
    "        # segmenting the lungs from CT scan slices\n",
    "\n",
    "        ret, lung_roi = cv2.threshold(img_norm, threshold, 255, cv2.THRESH_BINARY_INV)\n",
    "        lung_roi = cv2.erode(lung_roi, kernel=np.ones([4,4]))\n",
    "        lung_roi = cv2.dilate(lung_roi, kernel=np.ones([13,13]))\n",
    "        lung_roi = cv2.erode(lung_roi, kernel=np.ones([8,8]))\n",
    "\n",
    "        labels = measure.label(lung_roi)       \n",
    "        regions = measure.regionprops(labels)  \n",
    "        good_labels = []\n",
    "        for prop in regions:        \n",
    "            \n",
    "            B = prop.bbox\n",
    "            \n",
    "            if B[2]-B[0] < 475 and B[3]-B[1] < 475 and B[0] > 40 and B[2] < 472:\n",
    "                good_labels.append(prop.label)\n",
    "        lung_roi_mask = np.zeros_like(labels)\n",
    "        for N in good_labels:\n",
    "            lung_roi_mask = lung_roi_mask + np.where(labels == N, 1, 0)\n",
    "\n",
    "        #  proper segmentation\n",
    "        contours, hirearchy = cv2.findContours(lung_roi_mask,cv2.RETR_CCOMP,cv2.CHAIN_APPROX_SIMPLE)\n",
    "        external_contours = np.zeros(lung_roi_mask.shape)\n",
    "        for i in range(len(contours)):\n",
    "            if hirearchy[0][i][3] == -1:\n",
    "                area = cv2.contourArea(contours[i])\n",
    "                if area>518.0:\n",
    "                    cv2.drawContours(external_contours,contours,i,(1,1,1),-1)\n",
    "        external_contours = cv2.dilate(external_contours, kernel=np.ones([4,4]))\n",
    "        \n",
    "        external_contours = cv2.bitwise_not(external_contours.astype(np.uint8))\n",
    "        external_contours = cv2.erode(external_contours, kernel=np.ones((7,7)))\n",
    "        external_contours = cv2.bitwise_not(external_contours)\n",
    "        external_contours = cv2.dilate(external_contours, kernel=np.ones((12,12)))\n",
    "        external_contours = cv2.erode(external_contours, kernel=np.ones((12,12)))\n",
    "        \n",
    "        img_norm_improved = img_norm_improved.astype(np.uint8)\n",
    "        external_contours = external_contours.astype(np.uint8)      \n",
    "        # Final segmentated lungs mask\n",
    "        extracted_lungs = cv2.bitwise_and(img_norm_improved, img_norm_improved, mask=external_contours)\n",
    "        \n",
    "        #------------------------------------------------------------------------------------------------------------#\n",
    "        if v_diam>18:\n",
    "            img_norm2_improved = img_norm2_improved.astype(np.uint8)\n",
    "            extracted_lungs2 = cv2.bitwise_and(img_norm2_improved, img_norm2_improved, mask=external_contours)\n",
    "            mask2 = mask2.astype(np.uint8)\n",
    "            np.save(os.path.join(target_root+\"nodule_mask/\", f\"masks_{subset}_{i}_{idx}_2.npy\"), mask2)\n",
    "            np.save(os.path.join(target_root+\"lungs_roi/\", f\"lungs_{subset}_{i}_{idx}_2.npy\"), extracted_lungs2)\n",
    "            \n",
    "            img_norm3_improved = img_norm3_improved.astype(np.uint8)\n",
    "            extracted_lungs3 = cv2.bitwise_and(img_norm3_improved, img_norm3_improved, mask=external_contours)\n",
    "            mask3 = mask3.astype(np.uint8)\n",
    "            np.save(os.path.join(target_root+\"nodule_mask/\", f\"masks_{subset}_{i}_{idx}_3.npy\"), mask3)\n",
    "            np.save(os.path.join(target_root+\"lungs_roi/\", f\"lungs_{subset}_{i}_{idx}_3.npy\"), extracted_lungs3)\n",
    "            \n",
    "        #------------------------------------------------------------------------------------------------------------#\n",
    "        \n",
    "        mask = mask.astype(np.uint8)\n",
    "        np.save(os.path.join(target_root+\"nodule_mask/\", f\"masks_{subset}_{i}_{idx}.npy\"), mask)            # Saving the nodule mask\n",
    "        np.save(os.path.join(target_root+\"lungs_roi/\", f\"lungs_{subset}_{i}_{idx}.npy\"), extracted_lungs)"
   ]
  },
  {
   "cell_type": "markdown",
   "metadata": {},
   "source": [
    "Here is a concise explanation for uploading to GitHub:\n",
    "\n",
    "---\n",
    "\n",
    "### CT Scan Nodule Segmentation and Lung Mask Extraction\n",
    "\n",
    "This script processes CT scan images to segment lung regions and nodules. It uses a series of image processing techniques such as Contrast Limited Adaptive Histogram Equalization (CLAHE), K-means clustering, thresholding, and morphological operations to extract and refine lung and nodule masks. \n",
    "\n",
    "#### Key Steps:\n",
    "1. **CLAHE** enhances image contrast for better visibility.\n",
    "2. **K-means clustering** determines a threshold for binary segmentation.\n",
    "3. **Morphological operations** (erosion and dilation) refine lung and nodule masks.\n",
    "4. **Contour detection** isolates lung boundaries and removes artifacts.\n",
    "5. **Nodule and lung masks** are saved as `.npy` files for further analysis.\n",
    "\n",
    "The result is a set of processed CT images with isolated lung and nodule regions."
   ]
  }
 ],
 "metadata": {
  "kernelspec": {
   "display_name": "Python 3",
   "language": "python",
   "name": "python3"
  },
  "language_info": {
   "codemirror_mode": {
    "name": "ipython",
    "version": 3
   },
   "file_extension": ".py",
   "mimetype": "text/x-python",
   "name": "python",
   "nbconvert_exporter": "python",
   "pygments_lexer": "ipython3",
   "version": "3.11.0"
  }
 },
 "nbformat": 4,
 "nbformat_minor": 2
}
