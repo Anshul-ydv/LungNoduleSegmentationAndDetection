{
 "cells": [
  {
   "cell_type": "code",
   "execution_count": 146,
   "metadata": {},
   "outputs": [],
   "source": [
    "import numpy as np\n",
    "import os\n",
    "import random\n",
    "from tqdm import tqdm\n",
    "from IPython.display import clear_output"
   ]
  },
  {
   "cell_type": "code",
   "execution_count": 147,
   "metadata": {},
   "outputs": [],
   "source": [
    "root1 = \"/Users/STUFF/Processedm2/Processed_Data/lungs_roi/\"\n",
    "root2 = \"/Users/STUFF/Processedm2/Processed_Data/nodule_mask/\""
   ]
  },
  {
   "cell_type": "code",
   "execution_count": 148,
   "metadata": {},
   "outputs": [],
   "source": [
    "lung_names = os.listdir(root1)\n",
    "random.shuffle(lung_names)"
   ]
  },
  {
   "cell_type": "code",
   "execution_count": 149,
   "metadata": {},
   "outputs": [
    {
     "name": "stdout",
     "output_type": "stream",
     "text": [
      "121\n",
      "31\n"
     ]
    }
   ],
   "source": [
    "n = len(lung_names)\n",
    "s = int(n*.8)\n",
    "train_lung_names = lung_names[:s]\n",
    "test_lung_names = lung_names[s:]\n",
    "print(len(train_lung_names))\n",
    "print(len(test_lung_names))"
   ]
  },
  {
   "cell_type": "code",
   "execution_count": 150,
   "metadata": {},
   "outputs": [
    {
     "name": "stderr",
     "output_type": "stream",
     "text": [
      "100%|██████████| 121/121 [00:00<00:00, 1423.56it/s]\n"
     ]
    }
   ],
   "source": [
    "trainX = []\n",
    "trainY = []\n",
    "\n",
    "for lname in tqdm(train_lung_names):\n",
    "  mname = lname.replace(\"lungs\",\"masks\")\n",
    "  lung = np.load(root1 + lname, allow_pickle=True)\n",
    "  mask = np.load(root2 + mname, allow_pickle=True)\n",
    "  trainX.append(lung)\n",
    "  trainY.append(mask)\n",
    "\n",
    "trainX = np.array(trainX, dtype=np.uint8)\n",
    "trainY = np.array(trainY, dtype=np.uint8)\n",
    "\n",
    "np.save(\"trainX.npy\", trainX)\n",
    "np.save(\"trainY.npy\", trainY)"
   ]
  },
  {
   "cell_type": "markdown",
   "metadata": {},
   "source": [
    "### Data Preparation for Training\n",
    "\n",
    "This script prepares training data by loading lung and mask images, then saving them as `.npy` files for model training. It iterates through the list of lung image filenames, loads the corresponding lung and mask data, and appends them to the training arrays.\n",
    "\n",
    "Key Steps:\n",
    "1. **Load lung and mask images** from specified directories.\n",
    "2. **Store lung and mask data** in `trainX` and `trainY`.\n",
    "3. **Save the processed arrays** to `.npy` files for use in training.\n",
    "\n",
    "The processed data (`trainX.npy` and `trainY.npy`) is saved for future use in training machine learning models."
   ]
  },
  {
   "cell_type": "code",
   "execution_count": null,
   "metadata": {},
   "outputs": [],
   "source": [
    "testX = []\n",
    "testY = []\n",
    "\n",
    "for lname in tqdm(test_lung_names):\n",
    "  mname = lname.replace(\"lungs\",\"masks\")\n",
    "  lung = np.load(root1+lname)\n",
    "  mask = np.load(root2+mname)\n",
    "  testX.append(lung)\n",
    "  testY.append(mask)\n",
    "\n",
    "testX = np.array(testX, dtype=np.uint8)\n",
    "testY = np.array(testY, dtype=np.uint8)\n",
    "\n",
    "np.save(\"testX.npy\", testX)\n",
    "np.save(\"testY.npy\", testY)"
   ]
  },
  {
   "cell_type": "markdown",
   "metadata": {},
   "source": [
    "### Data Preparation for Testing\n",
    "\n",
    "This script prepares testing data by loading lung and mask images from the test set and saving them as `.npy` files. It iterates through the list of test lung image filenames, loads the corresponding lung and mask data, and stores them in arrays for testing.\n",
    "\n",
    "Key Steps:\n",
    "1. **Load lung and mask images** from the test set directories.\n",
    "2. **Store lung and mask data** in `testX` and `testY`.\n",
    "3. **Save the processed arrays** to `.npy` files for use in model evaluation.\n",
    "\n",
    "The processed test data (`testX.npy` and `testY.npy`) is saved for use in model testing and evaluation."
   ]
  }
 ],
 "metadata": {
  "kernelspec": {
   "display_name": "Python 3",
   "language": "python",
   "name": "python3"
  },
  "language_info": {
   "codemirror_mode": {
    "name": "ipython",
    "version": 3
   },
   "file_extension": ".py",
   "mimetype": "text/x-python",
   "name": "python",
   "nbconvert_exporter": "python",
   "pygments_lexer": "ipython3",
   "version": "3.11.0"
  }
 },
 "nbformat": 4,
 "nbformat_minor": 2
}
