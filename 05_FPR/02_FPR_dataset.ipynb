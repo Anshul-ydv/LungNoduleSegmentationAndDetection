{
 "cells": [
  {
   "cell_type": "code",
   "execution_count": 1,
   "metadata": {},
   "outputs": [],
   "source": [
    "import random\n",
    "import os\n",
    "import shutil\n",
    "from tqdm import tqdm"
   ]
  },
  {
   "cell_type": "code",
   "execution_count": null,
   "metadata": {},
   "outputs": [],
   "source": [
    "root = \"/Users/STUFF/Processedm2/Processed_Data/FPR/FPRProcessedData/non-nodule-initial/\"\n",
    "target = \"/Users/STUFF/Processedm2/Processed_Data/FPR/FPRProcessedData/non-nodule/\""
   ]
  },
  {
   "cell_type": "code",
   "execution_count": 3,
   "metadata": {},
   "outputs": [],
   "source": [
    "filelist = os.listdir(root)"
   ]
  },
  {
   "cell_type": "code",
   "execution_count": 4,
   "metadata": {},
   "outputs": [
    {
     "data": {
      "text/plain": [
       "54363"
      ]
     },
     "execution_count": 4,
     "metadata": {},
     "output_type": "execute_result"
    }
   ],
   "source": [
    "len(filelist)"
   ]
  },
  {
   "cell_type": "code",
   "execution_count": 5,
   "metadata": {},
   "outputs": [
    {
     "data": {
      "text/plain": [
       "['candidate_4_0_512608.jpg',\n",
       " 'candidate_4_0_299312.jpg',\n",
       " 'candidate_4_0_450349.jpg',\n",
       " 'candidate_4_0_204543.jpg',\n",
       " 'candidate_4_0_479903.jpg',\n",
       " 'candidate_4_0_245279.jpg',\n",
       " 'candidate_4_0_131226.jpg',\n",
       " 'candidate_4_0_27418.jpg',\n",
       " 'candidate_4_0_79202.jpg',\n",
       " 'candidate_4_0_40483.jpg']"
      ]
     },
     "execution_count": 5,
     "metadata": {},
     "output_type": "execute_result"
    }
   ],
   "source": [
    "filelist[:10]"
   ]
  },
  {
   "cell_type": "code",
   "execution_count": 6,
   "metadata": {},
   "outputs": [],
   "source": [
    "random.shuffle(filelist)"
   ]
  },
  {
   "cell_type": "code",
   "execution_count": 7,
   "metadata": {},
   "outputs": [
    {
     "data": {
      "text/plain": [
       "['candidate_4_0_513022.jpg',\n",
       " 'candidate_4_0_90914.jpg',\n",
       " 'candidate_4_0_445772.jpg',\n",
       " 'candidate_4_0_485909.jpg',\n",
       " 'candidate_4_0_299442.jpg',\n",
       " 'candidate_4_0_445659.jpg',\n",
       " 'candidate_4_0_512566.jpg',\n",
       " 'candidate_4_0_270461.jpg',\n",
       " 'candidate_4_0_241285.jpg',\n",
       " 'candidate_4_0_2285.jpg']"
      ]
     },
     "execution_count": 7,
     "metadata": {},
     "output_type": "execute_result"
    }
   ],
   "source": [
    "filelist[:10]"
   ]
  },
  {
   "cell_type": "code",
   "execution_count": 8,
   "metadata": {},
   "outputs": [
    {
     "name": "stderr",
     "output_type": "stream",
     "text": [
      "100%|██████████| 10000/10000 [00:03<00:00, 3134.06it/s]\n"
     ]
    }
   ],
   "source": [
    "# Number of non nodule images is too high compared to the number of nodule images.\n",
    "# Therefore, we will use only 10000 non nodule images.\n",
    "finalfiles = filelist[:10000]\n",
    "for file in tqdm(finalfiles, total=10000):\n",
    "    s = root+file\n",
    "    d = target+file\n",
    "    shutil.copy(s,d)"
   ]
  },
  {
   "cell_type": "code",
   "execution_count": null,
   "metadata": {},
   "outputs": [],
   "source": [
    "os.chdir(\"/Users/STUFF/Processedm2/Processed_Data/FPR/\")\n",
    "os.mkdir(\"FPRDataset\")\n",
    "os.mkdir(\"FPRDataset/train\")\n",
    "os.mkdir(\"FPRDataset/train/nodule\")\n",
    "os.mkdir(\"FPRDataset/train/non-nodule\")\n",
    "os.mkdir(\"FPRDataset/test\")\n",
    "os.mkdir(\"FPRDataset/test/nodule\")\n",
    "os.mkdir(\"FPRDataset/test/non-nodule\")"
   ]
  },
  {
   "cell_type": "code",
   "execution_count": 10,
   "metadata": {},
   "outputs": [],
   "source": [
    "nodule_files = os.listdir(\"FPRProcessedData/nodule/\")\n",
    "non_nodule_files = os.listdir(\"FPRProcessedData/non-nodule/\")"
   ]
  },
  {
   "cell_type": "code",
   "execution_count": 11,
   "metadata": {},
   "outputs": [],
   "source": [
    "random.shuffle(nodule_files)\n",
    "random.shuffle(non_nodule_files)"
   ]
  },
  {
   "cell_type": "code",
   "execution_count": 12,
   "metadata": {},
   "outputs": [],
   "source": [
    "n = len(nodule_files)\n",
    "split = int(0.75*n)\n",
    "for i in nodule_files[:split]:\n",
    "    shutil.copy(f\"FPRProcessedData/nodule/{i}\", f\"FPRDataset/train/nodule/{i}\")\n",
    "for i in nodule_files[split:]:\n",
    "    shutil.copy(f\"FPRProcessedData/nodule/{i}\", f\"FPRDataset/test/nodule/{i}\")"
   ]
  },
  {
   "cell_type": "code",
   "execution_count": 13,
   "metadata": {},
   "outputs": [],
   "source": [
    "n = len(non_nodule_files)\n",
    "split = int(0.75*n)\n",
    "for i in non_nodule_files[:split]:\n",
    "    shutil.copy(f\"FPRProcessedData/non-nodule/{i}\", f\"FPRDataset/train/non-nodule/{i}\")\n",
    "for i in non_nodule_files[split:]:\n",
    "    shutil.copy(f\"FPRProcessedData/non-nodule/{i}\", f\"FPRDataset/test/non-nodule/{i}\")"
   ]
  }
 ],
 "metadata": {
  "kernelspec": {
   "display_name": "Python 3",
   "language": "python",
   "name": "python3"
  },
  "language_info": {
   "codemirror_mode": {
    "name": "ipython",
    "version": 3
   },
   "file_extension": ".py",
   "mimetype": "text/x-python",
   "name": "python",
   "nbconvert_exporter": "python",
   "pygments_lexer": "ipython3",
   "version": "3.11.0"
  }
 },
 "nbformat": 4,
 "nbformat_minor": 2
}
